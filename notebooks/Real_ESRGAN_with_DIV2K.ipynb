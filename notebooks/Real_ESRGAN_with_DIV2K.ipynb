{
  "cells": [
    {
      "cell_type": "markdown",
      "metadata": {
        "id": "view-in-github",
        "colab_type": "text"
      },
      "source": [
        "<a href=\"https://colab.research.google.com/github/electricalgorithm/div2k_realesrgan_hat_trainer/blob/main/Real_ESRGAN_with_DIV2K.ipynb\" target=\"_parent\"><img src=\"https://colab.research.google.com/assets/colab-badge.svg\" alt=\"Open In Colab\"/></a>"
      ]
    },
    {
      "cell_type": "markdown",
      "metadata": {
        "id": "5iN8z22xozUn"
      },
      "source": [
        "# Preperation of the Environment & Dataset"
      ]
    },
    {
      "cell_type": "markdown",
      "metadata": {
        "id": "IRAYe98PSvfa"
      },
      "source": [
        "**Dowload the original Real-ESRGAN codebase.**"
      ]
    },
    {
      "cell_type": "code",
      "execution_count": null,
      "metadata": {
        "id": "f3X-UopHrLsl"
      },
      "outputs": [],
      "source": [
        "!git clone https://github.com/xinntao/Real-ESRGAN.git"
      ]
    },
    {
      "cell_type": "markdown",
      "metadata": {
        "id": "OKbGXJCOTO0o"
      },
      "source": [
        "**Install dependencies.**"
      ]
    },
    {
      "cell_type": "code",
      "execution_count": null,
      "metadata": {
        "id": "0kW7z3TMTFSc"
      },
      "outputs": [],
      "source": [
        "%cd Real-ESRGAN\n",
        "!pip install basicsr\n",
        "!pip install facexlib\n",
        "!pip install gfpgan\n",
        "!pip install -r requirements.txt\n",
        "!python setup.py develop\n",
        "%cd .."
      ]
    },
    {
      "cell_type": "markdown",
      "metadata": {
        "id": "J3Dbo7NnUchP"
      },
      "source": [
        "**Download DIV2K dataset.**"
      ]
    },
    {
      "cell_type": "code",
      "execution_count": null,
      "metadata": {
        "id": "dVoMS8DAUkgN"
      },
      "outputs": [],
      "source": [
        "!mkdir /content/Real-ESRGAN/datasets\n",
        "%cd /content/Real-ESRGAN/datasets\n",
        "!wget http://data.vision.ee.ethz.ch/cvl/DIV2K/DIV2K_train_HR.zip\n",
        "!unzip DIV2K_train_HR.zip\n",
        "%cd /content/"
      ]
    },
    {
      "cell_type": "markdown",
      "metadata": {
        "id": "IAIRl3PYXJZK"
      },
      "source": [
        "**Generate multiscale images.**"
      ]
    },
    {
      "cell_type": "code",
      "execution_count": null,
      "metadata": {
        "id": "3q5X42utXOpD"
      },
      "outputs": [],
      "source": [
        "!mkdir /content/Real-ESRGAN/datasets/DIV2K_multiscale/\n",
        "%cd /content/Real-ESRGAN/scripts\n",
        "!python generate_multiscale_DF2K.py --input /content/Real-ESRGAN/datasets/DIV2K_train_HR --output /content/Real-ESRGAN/datasets/DIV2K_multiscale\n",
        "%cd /content/"
      ]
    },
    {
      "cell_type": "markdown",
      "metadata": {
        "id": "LQlzVGhzgjrH"
      },
      "source": [
        "**Generate sub-images.**"
      ]
    },
    {
      "cell_type": "code",
      "execution_count": null,
      "metadata": {
        "id": "b7I5gYrVX17p"
      },
      "outputs": [],
      "source": [
        "%cd /content/Real-ESRGAN/scripts\n",
        "!python extract_subimages.py --input /content/Real-ESRGAN/datasets/DIV2K_multiscale --output /content/Real-ESRGAN/datasets/DIV2K_multiscale_sub --crop_size 400 --step 200\n",
        "%cd /content/"
      ]
    },
    {
      "cell_type": "markdown",
      "metadata": {
        "id": "ZO6Tm6MThvG8"
      },
      "source": [
        "**Combine all the directories inside a root folder.**\n"
      ]
    },
    {
      "cell_type": "code",
      "execution_count": null,
      "metadata": {
        "colab": {
          "base_uri": "https://localhost:8080/"
        },
        "id": "MlXNxgyIg-qy",
        "outputId": "1eb60957-a230-4a67-9bc6-29994750bdc9"
      },
      "outputs": [
        {
          "name": "stdout",
          "output_type": "stream",
          "text": [
            "Total Image Count on Multiscale-sub: \n",
            "45764\n",
            "Total Image Count on Multiscale: \n",
            "3203\n",
            "Total Image Count on original HR: \n",
            "803\n"
          ]
        }
      ],
      "source": [
        "!echo \"Total Image Count on Multiscale-sub: \"\n",
        "!ls -alt /content/Real-ESRGAN/datasets/DIV2K_multiscale_sub | wc -l\n",
        "\n",
        "!echo \"Total Image Count on Multiscale: \"\n",
        "!ls -alt /content/Real-ESRGAN/datasets/DIV2K_multiscale | wc -l\n",
        "\n",
        "\n",
        "!echo \"Total Image Count on original HR: \"\n",
        "!ls -alt /content/Real-ESRGAN/datasets/DIV2K_train_HR | wc -l"
      ]
    },
    {
      "cell_type": "code",
      "execution_count": null,
      "metadata": {
        "id": "IE9yul2NiLQh"
      },
      "outputs": [],
      "source": [
        "!mkdir /content/Real-ESRGAN/datasets/DIV2K\n",
        "!cp -r /content/Real-ESRGAN/datasets/DIV2K_multiscale_sub /content/Real-ESRGAN/datasets/DIV2K\n",
        "!cp -r /content/Real-ESRGAN/datasets/DIV2K_multiscale /content/Real-ESRGAN/datasets/DIV2K\n",
        "!cp -r /content/Real-ESRGAN/datasets/DIV2K_train_HR /content/Real-ESRGAN/datasets/DIV2K\n",
        "!rm -rf /content/Real-ESRGAN/datasets/DIV2K_multiscale_sub\n",
        "!rm -rf /content/Real-ESRGAN/datasets/DIV2K_multiscale\n",
        "!rm -rf /content/Real-ESRGAN/datasets/DIV2K_train_HR"
      ]
    },
    {
      "cell_type": "markdown",
      "metadata": {
        "id": "YQadrnEijBzr"
      },
      "source": [
        "**Generate metadata text-file.**"
      ]
    },
    {
      "cell_type": "code",
      "execution_count": null,
      "metadata": {
        "id": "CXJNIOiWjBVK"
      },
      "outputs": [],
      "source": [
        "%cd /content/Real-ESRGAN/\n",
        "!python scripts/generate_meta_info.py --input datasets/DIV2K/DIV2K_train_HR datasets/DIV2K/DIV2K_multiscale --root datasets/DIV2K datasets/DIV2K --meta_info datasets/DIV2K/meta_info/meta_info_DIV2Kmultiscale.txt\n",
        "%cd .."
      ]
    },
    {
      "cell_type": "markdown",
      "metadata": {
        "id": "L9dGEIfxkDsE"
      },
      "source": [
        "# Preperation for Training"
      ]
    },
    {
      "cell_type": "markdown",
      "metadata": {
        "id": "_eAHNlnGlwUe"
      },
      "source": [
        "**Download ESRGAN model.**"
      ]
    },
    {
      "cell_type": "code",
      "execution_count": null,
      "metadata": {
        "id": "uU3K61qDkG-p"
      },
      "outputs": [],
      "source": [
        "%cd /content/Real-ESRGAN/\n",
        "!wget https://github.com/xinntao/Real-ESRGAN/releases/download/v0.1.1/ESRGAN_SRx4_DF2KOST_official-ff704c30.pth -P experiments/pretrained_models\n",
        "%cd .."
      ]
    },
    {
      "cell_type": "markdown",
      "metadata": {
        "id": "ESxjwV-dl8z6"
      },
      "source": [
        "**Change the config within new dataset.**"
      ]
    },
    {
      "cell_type": "code",
      "execution_count": null,
      "metadata": {
        "id": "IrrPf5vImIBB"
      },
      "outputs": [],
      "source": [
        "!cp /content/Real-ESRGAN/options/train_realesrnet_x4plus.yml /content/Real-ESRGAN/options/train_custom_dataset.yml\n",
        "# Update dataset location in the new train_custom_dataset.yml."
      ]
    },
    {
      "cell_type": "markdown",
      "metadata": {
        "id": "czYPlen3ot4E"
      },
      "source": [
        "**Test if everything works for a small period of time.**"
      ]
    },
    {
      "cell_type": "code",
      "execution_count": null,
      "metadata": {
        "id": "IGDNxifootXq"
      },
      "outputs": [],
      "source": [
        "%cd /content/Real-ESRGAN/\n",
        "!python realesrgan/train.py -opt options/train_custom_dataset.yml --debug\n",
        "%cd .."
      ]
    },
    {
      "cell_type": "markdown",
      "metadata": {
        "id": "tUz_MrRuJ37-"
      },
      "source": [
        "# Training Process"
      ]
    },
    {
      "cell_type": "code",
      "execution_count": null,
      "metadata": {
        "colab": {
          "background_save": true
        },
        "id": "dgEdsQlJJ7tT"
      },
      "outputs": [],
      "source": [
        "%cd /content/Real-ESRGAN/\n",
        "!python realesrgan/train.py -opt options/train_custom_dataset.yml --auto_resume\n",
        "%cd .."
      ]
    }
  ],
  "metadata": {
    "accelerator": "GPU",
    "colab": {
      "machine_shape": "hm",
      "provenance": [],
      "authorship_tag": "ABX9TyMIsL8bgdgJTeBNaCKFQqvz",
      "include_colab_link": true
    },
    "kernelspec": {
      "display_name": "Python 3",
      "name": "python3"
    },
    "language_info": {
      "name": "python"
    }
  },
  "nbformat": 4,
  "nbformat_minor": 0
}