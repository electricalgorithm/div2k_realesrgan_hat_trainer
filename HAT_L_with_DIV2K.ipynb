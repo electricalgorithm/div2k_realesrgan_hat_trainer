{
  "nbformat": 4,
  "nbformat_minor": 0,
  "metadata": {
    "colab": {
      "provenance": [],
      "machine_shape": "hm",
      "gpuType": "T4",
      "authorship_tag": "ABX9TyOQ7Zdc0dz22ZZPtvV+iCnY",
      "include_colab_link": true
    },
    "kernelspec": {
      "name": "python3",
      "display_name": "Python 3"
    },
    "language_info": {
      "name": "python"
    },
    "accelerator": "GPU"
  },
  "cells": [
    {
      "cell_type": "markdown",
      "metadata": {
        "id": "view-in-github",
        "colab_type": "text"
      },
      "source": [
        "<a href=\"https://colab.research.google.com/github/electricalgorithm/div2k_realesrgan_hat_trainer/blob/main/HAT_L_with_DIV2K.ipynb\" target=\"_parent\"><img src=\"https://colab.research.google.com/assets/colab-badge.svg\" alt=\"Open In Colab\"/></a>"
      ]
    },
    {
      "cell_type": "markdown",
      "source": [
        "# Preperation of the Environment & Dataset"
      ],
      "metadata": {
        "id": "17p7EO3-WUaJ"
      }
    },
    {
      "cell_type": "markdown",
      "source": [
        "**Dowload the original HAT codebase.**"
      ],
      "metadata": {
        "id": "ZUDSkDmLYBjD"
      }
    },
    {
      "cell_type": "code",
      "execution_count": null,
      "metadata": {
        "id": "j5Jkg3AKWDV9"
      },
      "outputs": [],
      "source": [
        "!git clone https://github.com/XPixelGroup/HAT.git"
      ]
    },
    {
      "cell_type": "markdown",
      "source": [
        "**Install dependencies.**"
      ],
      "metadata": {
        "id": "87ixd68KYJyj"
      }
    },
    {
      "cell_type": "code",
      "source": [
        "%cd HAT\n",
        "!pip install -r requirements.txt\n",
        "!python setup.py develop\n",
        "%cd .."
      ],
      "metadata": {
        "id": "a61va9wJYFSF"
      },
      "execution_count": null,
      "outputs": []
    },
    {
      "cell_type": "markdown",
      "source": [
        "**Download dataset DIV2K and unzip it.**"
      ],
      "metadata": {
        "id": "KAleu695Y8ws"
      }
    },
    {
      "cell_type": "code",
      "source": [
        "%cd /content/HAT/datasets\n",
        "!wget http://data.vision.ee.ethz.ch/cvl/DIV2K/DIV2K_train_HR.zip\n",
        "!unzip DIV2K_train_HR.zip\n",
        "%cd /content/"
      ],
      "metadata": {
        "id": "nCQ8zcw0ZAM4"
      },
      "execution_count": null,
      "outputs": []
    },
    {
      "cell_type": "markdown",
      "source": [
        "**Get the mutliscale converter & sub-image maker scripts from Real-ESRGAN codebase.**"
      ],
      "metadata": {
        "id": "xvJtcbjsa16f"
      }
    },
    {
      "cell_type": "code",
      "source": [
        "!mkdir /content/HAT/scripts\n",
        "%cd /content/HAT/scripts\n",
        "!wget https://raw.githubusercontent.com/xinntao/Real-ESRGAN/master/scripts/generate_multiscale_DF2K.py\n",
        "!wget https://raw.githubusercontent.com/xinntao/Real-ESRGAN/master/scripts/extract_subimages.py\n",
        "%cd /content/"
      ],
      "metadata": {
        "id": "1aiZOsU9bAgZ"
      },
      "execution_count": null,
      "outputs": []
    },
    {
      "cell_type": "markdown",
      "source": [
        "**Generate multiscale images.**"
      ],
      "metadata": {
        "id": "mrDKmBSzbbI2"
      }
    },
    {
      "cell_type": "code",
      "source": [
        "!mkdir /content/HAT/datasets/DIV2K_multiscale\n",
        "%cd /content/HAT/scripts\n",
        "!python generate_multiscale_DF2K.py --input /content/HAT/datasets/DIV2K_train_HR --output /content/HAT/datasets/DIV2K_multiscale\n",
        "%cd /content/"
      ],
      "metadata": {
        "id": "h7Dgzbpybi48"
      },
      "execution_count": null,
      "outputs": []
    },
    {
      "cell_type": "markdown",
      "source": [
        "**Generate sub-images.**"
      ],
      "metadata": {
        "id": "MwAl2CYPgo8C"
      }
    },
    {
      "cell_type": "code",
      "source": [
        "%cd /content/HAT/scripts\n",
        "!python extract_subimages.py --input /content/HAT/datasets/DIV2K_multiscale --output /content/HATdatasets/DIV2K_multiscale_sub --crop_size 400 --step 200\n",
        "%cd /content/"
      ],
      "metadata": {
        "id": "MU1FELDjgoUs"
      },
      "execution_count": null,
      "outputs": []
    }
  ]
}